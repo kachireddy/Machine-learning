{
  "nbformat": 4,
  "nbformat_minor": 0,
  "metadata": {
    "colab": {
      "name": "bit.ipynb",
      "provenance": [],
      "authorship_tag": "ABX9TyN5TCO+TDPkXriH9o9RmrUI",
      "include_colab_link": true
    },
    "kernelspec": {
      "name": "python3",
      "display_name": "Python 3"
    }
  },
  "cells": [
    {
      "cell_type": "markdown",
      "metadata": {
        "id": "view-in-github",
        "colab_type": "text"
      },
      "source": [
        "<a href=\"https://colab.research.google.com/github/kachireddy/Machine-learning/blob/master/bit.ipynb\" target=\"_parent\"><img src=\"https://colab.research.google.com/assets/colab-badge.svg\" alt=\"Open In Colab\"/></a>"
      ]
    },
    {
      "cell_type": "code",
      "metadata": {
        "id": "ucAZGJ0KfV4o",
        "colab_type": "code",
        "outputId": "ae450a9d-1c80-4139-d58b-8f24a4ccff2a",
        "colab": {
          "base_uri": "https://localhost:8080/",
          "height": 122
        }
      },
      "source": [
        "from google.colab import drive\n",
        "drive.mount('/content/drive',force_remount=True)"
      ],
      "execution_count": 1,
      "outputs": [
        {
          "output_type": "stream",
          "text": [
            "Go to this URL in a browser: https://accounts.google.com/o/oauth2/auth?client_id=947318989803-6bn6qk8qdgf4n4g3pfee6491hc0brc4i.apps.googleusercontent.com&redirect_uri=urn%3aietf%3awg%3aoauth%3a2.0%3aoob&response_type=code&scope=email%20https%3a%2f%2fwww.googleapis.com%2fauth%2fdocs.test%20https%3a%2f%2fwww.googleapis.com%2fauth%2fdrive%20https%3a%2f%2fwww.googleapis.com%2fauth%2fdrive.photos.readonly%20https%3a%2f%2fwww.googleapis.com%2fauth%2fpeopleapi.readonly\n",
            "\n",
            "Enter your authorization code:\n",
            "··········\n",
            "Mounted at /content/drive\n"
          ],
          "name": "stdout"
        }
      ]
    },
    {
      "cell_type": "code",
      "metadata": {
        "id": "L8EpLVSifvlg",
        "colab_type": "code",
        "outputId": "5908c715-aa7c-43d6-e6cb-0c27c8281b53",
        "colab": {
          "base_uri": "https://localhost:8080/",
          "height": 34
        }
      },
      "source": [
        "import pandas\n",
        "df=pandas.read_csv('/content/drive/My Drive/Classroom/bitcoin.csv')\n",
        "df['Date'].count()\n",
        "df['Open'].count()\n",
        "df['Close'].count()"
      ],
      "execution_count": 3,
      "outputs": [
        {
          "output_type": "execute_result",
          "data": {
            "text/plain": [
              "90"
            ]
          },
          "metadata": {
            "tags": []
          },
          "execution_count": 3
        }
      ]
    },
    {
      "cell_type": "code",
      "metadata": {
        "id": "tsUBgdsQf3X6",
        "colab_type": "code",
        "outputId": "597782f4-51ac-47e5-903e-7cf353166b16",
        "colab": {
          "base_uri": "https://localhost:8080/",
          "height": 578
        }
      },
      "source": [
        "import numpy as np\n",
        "x=np.array(df['Date'])[:90]\n",
        "print(x)\n",
        "u=np.array(df['Open'])[:90]\n",
        "v=np.array(df['Close'])[:90]\n",
        "w=u-v\n",
        "print(w)"
      ],
      "execution_count": 4,
      "outputs": [
        {
          "output_type": "stream",
          "text": [
            "['01/01/2017' '02/01/2017' '03/01/2017' '04/01/2017' '05/01/2017'\n",
            " '06/01/2017' '07/01/2017' '08/01/2017' '09/01/2017' '10/01/2017'\n",
            " '11/01/2017' '12/01/2017' '13/01/2017' '14/01/2017' '15/01/2017'\n",
            " '16/01/2017' '17/01/2017' '18/01/2017' '19/01/2017' '20/01/2017'\n",
            " '21/01/2017' '22/01/2017' '23/01/2017' '24/01/2017' '25/01/2017'\n",
            " '26/01/2017' '27/01/2017' '28/01/2017' '29/01/2017' '30/01/2017'\n",
            " '31/01/2017' '01/02/2017' '02/02/2017' '03/02/2017' '04/02/2017'\n",
            " '05/02/2017' '06/02/2017' '07/02/2017' '08/02/2017' '09/02/2017'\n",
            " '10/02/2017' '11/02/2017' '12/02/2017' '13/02/2017' '14/02/2017'\n",
            " '15/02/2017' '16/02/2017' '17/02/2017' '18/02/2017' '19/02/2017'\n",
            " '20/02/2017' '21/02/2017' '22/02/2017' '23/02/2017' '24/02/2017'\n",
            " '25/02/2017' '26/02/2017' '27/02/2017' '28/02/2017' '01/03/2017'\n",
            " '02/03/2017' '03/03/2017' '04/03/2017' '05/03/2017' '06/03/2017'\n",
            " '07/03/2017' '08/03/2017' '09/03/2017' '10/03/2017' '11/03/2017'\n",
            " '12/03/2017' '13/03/2017' '14/03/2017' '15/03/2017' '16/03/2017'\n",
            " '17/03/2017' '18/03/2017' '19/03/2017' '20/03/2017' '21/03/2017'\n",
            " '22/03/2017' '23/03/2017' '24/03/2017' '25/03/2017' '26/03/2017'\n",
            " '27/03/2017' '28/03/2017' '29/03/2017' '30/03/2017' '31/03/2017']\n",
            "[ 2.2490e+01 -4.6000e+01 -6.2900e+01 -1.4000e+02  1.4200e+02  1.5010e+01\n",
            " -2.5500e+01  6.5490e+01 -3.7500e+01 -1.0000e+00  1.5400e+02 -4.9990e+01\n",
            " -2.1950e+01  2.0000e+00  2.6990e+01  2.4600e+02 -2.4000e+02  4.9000e+01\n",
            " -4.8000e+01 -2.5000e+00 -4.0200e+00 -1.0000e-01 -2.5990e+01 -1.0990e+01\n",
            " -3.5200e+00 -1.7480e+01  3.5000e+00  9.9000e+00  4.0200e+00 -1.2000e+01\n",
            " -4.5010e+01 -1.0900e+01 -1.1100e+01  5.0000e+00 -2.1500e+01 -9.9800e+00\n",
            " -3.9700e+00 -4.5990e+01  1.2500e+01  6.1620e+01  0.0000e+00 -1.8990e+01\n",
            "  4.0000e+00  2.4000e+01 -4.7000e+01  1.2000e+01 -2.2000e+01 -4.0000e+01\n",
            "  1.0990e+01  1.6500e+01 -2.7500e+01 -7.6800e+01 -2.1000e+01 -3.0990e+01\n",
            "  5.2000e-01  1.1000e+01  1.6980e+01 -7.5490e+01  2.6490e+01 -3.9000e+01\n",
            " -4.0470e+01 -3.5990e+01 -1.2000e+01  2.8480e+01 -1.7990e+01  2.8000e+01\n",
            "  8.6970e+01 -6.9650e+01  6.2000e+01 -3.2050e+01 -2.6110e+01  1.3860e+01\n",
            " -1.2000e+01 -1.1010e+01  4.2000e+01  5.7000e+01  1.4010e+02 -1.0000e+02\n",
            " -2.7000e+01 -4.6450e+01  5.9520e+01  1.2450e+01  1.1200e+02 -1.2097e+02\n",
            " -2.9990e+01 -6.5000e+01 -4.3010e+01  4.1000e+01  1.6000e+01 -1.0000e+01]\n"
          ],
          "name": "stdout"
        }
      ]
    },
    {
      "cell_type": "code",
      "metadata": {
        "id": "rSy37jPdgMEo",
        "colab_type": "code",
        "outputId": "dd0b1593-3e6c-43b1-b0d4-1c204ed3b234",
        "colab": {
          "base_uri": "https://localhost:8080/",
          "height": 279
        }
      },
      "source": [
        "import matplotlib.pyplot as plt\n",
        "plt.plot(np.cos(np.linspace(0,2*np.pi)),'r+-')\n",
        "plt.xlabel('Date')\n",
        "plt.ylabel('gross profit or loss')\n",
        "plt.plot(['x','x3'],'r-')\n",
        "plt.show()"
      ],
      "execution_count": 6,
      "outputs": [
        {
          "output_type": "display_data",
          "data": {
            "image/png": "[encoded data removed]",
            "text/plain": [
              "<Figure size 432x288 with 1 Axes>"
            ]
          },
          "metadata": {
            "tags": [],
            "needs_background": "light"
          }
        }
      ]
    }
  ]
}